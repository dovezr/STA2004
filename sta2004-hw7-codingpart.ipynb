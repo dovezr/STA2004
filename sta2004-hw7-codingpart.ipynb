{
 "cells": [
  {
   "cell_type": "code",
   "execution_count": 2,
   "id": "964f8f6d",
   "metadata": {},
   "outputs": [
    {
     "name": "stdout",
     "output_type": "stream",
     "text": [
      "The 95% CI for beta0 is: [0.6458119644840438,1.7906903025172558]\n",
      "The 95% CI for beta1 is: [0.49709537347828703,1.8492722772197514]\n",
      "The 95% CI for beta2 is: [0.8827919869847044,2.2458025837571167]\n",
      "The 95% CI for beta3 is: [-0.8531103752581496,0.5435568165577712]\n"
     ]
    }
   ],
   "source": [
    "import numpy as np\n",
    "import matplotlib.pyplot as plt\n",
    "import statsmodels.api as sm\n",
    "from scipy.stats import t\n",
    "from scipy import stats\n",
    "u = np.random.normal(0, 1, 100)\n",
    "X = np.random.uniform(0, 1, (100, 3))\n",
    "one = np.ones(100)\n",
    "beta = np.array([1,2,0])\n",
    "y = one + np.dot(X,beta) + u\n",
    "X = sm.add_constant(X)\n",
    "model = sm.OLS(y,X)\n",
    "results = model.fit()\n",
    "beta_hat = results.params\n",
    "y_hat = np.dot(X, beta_hat)\n",
    "cov = np.linalg.inv(np.dot(X.transpose(),X))\n",
    "for i in range(4):\n",
    "    left = beta_hat[i] - t.ppf(0.975, 96) * np.sqrt(cov[i,i])\n",
    "    right = beta_hat[i] + t.ppf(0.975,96) * np.sqrt(cov[i,i])\n",
    "    print('The 95% CI for beta{} is: [{},{}]'.format(i,left,right))"
   ]
  },
  {
   "cell_type": "code",
   "execution_count": 3,
   "id": "6c5ad703",
   "metadata": {},
   "outputs": [
    {
     "name": "stdout",
     "output_type": "stream",
     "text": [
      "The SSE is 107.57028768083038\n",
      "The SSR is 32.51294472333451\n",
      "The value for F statistic is 9.671948021871025\n",
      "The corresponding p-value is 1.2245228216856141e-05\n"
     ]
    }
   ],
   "source": [
    "from scipy.stats import f\n",
    "SSE = np.dot((y-y_hat).transpose(),(y-y_hat))\n",
    "SSR = np.dot((y_hat-np.mean(y)).transpose(),(y_hat-np.mean(y)))\n",
    "F = (SSR/3)/(SSE/96)\n",
    "p = 1 - f.cdf(F, 3, 96)\n",
    "print('The SSE is',SSE)\n",
    "print('The SSR is',SSR)\n",
    "print('The value for F statistic is',F)\n",
    "print('The corresponding p-value is',p)"
   ]
  },
  {
   "cell_type": "code",
   "execution_count": 4,
   "id": "c4eeb7b1",
   "metadata": {},
   "outputs": [
    {
     "name": "stdout",
     "output_type": "stream",
     "text": [
      "The number of simulations with p-values < 0.05 is around 52, which is close to 0.05*1000.\n",
      "The empirical type I error rate is 52/1000 = 0.052, which is close to the significance level of 0.05.\n"
     ]
    }
   ],
   "source": [
    "count = 0\n",
    "for i in range(1000):\n",
    "    u = np.random.normal(0, 1, 100)\n",
    "    X = np.random.uniform(0, 1, (100, 3))\n",
    "    one = np.ones(100)\n",
    "    beta = np.array([1,2,0])\n",
    "    y = one + np.dot(X,beta) + u\n",
    "    X = sm.add_constant(X)\n",
    "    model = sm.OLS(y,X)\n",
    "    results = model.fit()\n",
    "    beta_hat = results.params\n",
    "    y_hat = np.dot(X, beta_hat)\n",
    "    cov = np.linalg.inv(np.dot(X.transpose(),X))\n",
    "    T = beta_hat[3]/np.sqrt(cov[3,3])\n",
    "    p = 1 - t.cdf(abs(T),96)+t.cdf(-abs(T),96)\n",
    "    if p < 0.05:\n",
    "        count+=1\n",
    "print('''The number of simulations with p-values < 0.05 is around {}, which is close to 0.05*1000.\n",
    "The empirical type I error rate is {}/1000 = {}, which is close to the significance level of 0.05.'''.format(count,count,count/1000))"
   ]
  },
  {
   "cell_type": "code",
   "execution_count": 5,
   "id": "8eeb0dad",
   "metadata": {},
   "outputs": [
    {
     "name": "stdout",
     "output_type": "stream",
     "text": [
      "The predicted value for y0 is 1.515431050232146\n",
      "The prediction interval for y0 is [1.1701203367307076,1.8607417637335844]\n"
     ]
    }
   ],
   "source": [
    "x0=np.array([1,0.3,0.2,0.7])\n",
    "y0_hat = np.dot(x0, beta_hat)\n",
    "S_square = SSE/96\n",
    "cov = S_square*np.dot(np.dot(x0,np.linalg.inv(np.dot(X.transpose(),X))),x0.transpose())\n",
    "left = y0_hat - np.sqrt(cov)*t.ppf(0.975, 96)\n",
    "right = y0_hat + np.sqrt(cov)*t.ppf(0.975, 96)\n",
    "print('The predicted value for y0 is',y0_hat)\n",
    "print('The prediction interval for y0 is [{},{}]'.format(left,right))"
   ]
  },
  {
   "cell_type": "code",
   "execution_count": 6,
   "id": "0ff7400e",
   "metadata": {},
   "outputs": [
    {
     "name": "stdout",
     "output_type": "stream",
     "text": [
      "The width of 95% prediction intervals for y0 are: 3.9727755116462533, 3.9417595695711127 and 3.930276137372049 respectively for n = 200, 500 and 1000. \n",
      "The width does not approach to 0, but gradually be close to its limit of 3.969969.\n"
     ]
    }
   ],
   "source": [
    "n_list = [200,500,1000]\n",
    "wide_list = []\n",
    "for n in n_list:\n",
    "    u = np.random.normal(0, 1, n)\n",
    "    X = np.random.uniform(0, 1, (n, 3))\n",
    "    one = np.ones(n)\n",
    "    beta = np.array([1,2,0])\n",
    "    y = one + np.dot(X,beta) + u\n",
    "    X = sm.add_constant(X)\n",
    "    model = sm.OLS(y,X)\n",
    "    results = model.fit()\n",
    "    beta_hat = results.params\n",
    "    y_hat = np.dot(X, beta_hat)\n",
    "    SSE = np.dot((y-y_hat).transpose(),(y-y_hat))\n",
    "    x0=np.array([1,0.3,0.2,0.7])\n",
    "    y0_hat = np.dot(x0, beta_hat)\n",
    "    S_square = SSE/(n-4)\n",
    "    cov =1 + S_square*np.dot(np.dot(x0,np.linalg.inv(np.dot(X.transpose(),X))),x0.transpose())\n",
    "    wide_list.append(2*np.sqrt(cov)*t.ppf(0.975, n-4))\n",
    "print('''The width of 95% prediction intervals for y0 are: {}, {} and {} respectively for n = 200, 500 and 1000. \n",
    "The width does not approach to 0, but gradually be close to its limit of 3.969969.'''.format(wide_list[0],wide_list[1],wide_list[2]))"
   ]
  },
  {
   "cell_type": "code",
   "execution_count": 64,
   "id": "6cf2aae2",
   "metadata": {},
   "outputs": [
    {
     "name": "stdout",
     "output_type": "stream",
     "text": [
      "31431\n",
      "                 df        sum_sq       mean_sq           F         PR(>F)\n",
      "C(classes)      2.0  2.548512e+09  1.274256e+09  338.384375  3.994626e-146\n",
      "Residual    31428.0  1.183486e+11  3.765705e+06         NaN            NaN\n"
     ]
    }
   ],
   "source": [
    "import pandas as pd\n",
    "from pandas.core.frame import DataFrame\n",
    "import statsmodels.api as sm\n",
    "from statsmodels.formula.api import ols\n",
    "data = pd.read_csv(r\"C:\\Users\\86180\\Downloads\\traffic.csv\")\n",
    "list_clouds = []\n",
    "list_clear = []\n",
    "list_snow = []\n",
    "for i in range(len(data['weather_main'])):\n",
    "    if data['weather_main'][i] == 'Clouds':\n",
    "        list_clouds.append(data['traffic_volume'][i])\n",
    "    elif data['weather_main'][i] == 'Clear':\n",
    "        list_clear.append(data['traffic_volume'][i])\n",
    "    elif data['weather_main'][i] == 'Snow':\n",
    "        list_snow.append(data['traffic_volume'][i])\n",
    "class_list = [0 for _ in range(len(list_clouds))] + [1 for _ in range(len(list_clear))]+ [2 for _ in range(len(list_snow))]\n",
    "print(len(class_list))\n",
    "traffic_list = list_clouds + list_clear + list_snow\n",
    "c={\"classes\" : class_list,\"traffic\" : traffic_list}\n",
    "data1=DataFrame(c)\n",
    "model = ols('traffic ~ C(classes)', data=data1).fit()\n",
    "anovat = sm.stats.anova_lm(model)\n",
    "print(anovat)"
   ]
  },
  {
   "cell_type": "code",
   "execution_count": 66,
   "id": "d336a46f",
   "metadata": {},
   "outputs": [
    {
     "name": "stdout",
     "output_type": "stream",
     "text": [
      "2.9960178463550626\n"
     ]
    }
   ],
   "source": [
    "print(f.ppf(0.95, 2.0, 31428.0))"
   ]
  }
 ],
 "metadata": {
  "kernelspec": {
   "display_name": "Python 3",
   "language": "python",
   "name": "python3"
  },
  "language_info": {
   "codemirror_mode": {
    "name": "ipython",
    "version": 3
   },
   "file_extension": ".py",
   "mimetype": "text/x-python",
   "name": "python",
   "nbconvert_exporter": "python",
   "pygments_lexer": "ipython3",
   "version": "3.8.8"
  }
 },
 "nbformat": 4,
 "nbformat_minor": 5
}
